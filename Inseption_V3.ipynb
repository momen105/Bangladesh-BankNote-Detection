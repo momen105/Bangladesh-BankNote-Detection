{
 "cells": [
  {
   "cell_type": "code",
   "execution_count": 1,
   "metadata": {},
   "outputs": [],
   "source": [
    "from tensorflow.keras.models import Model\n",
    "from tensorflow.keras.applications.inception_v3 import InceptionV3\n",
    "from tensorflow.keras.preprocessing import image\n",
    "from tensorflow.keras.preprocessing.image import ImageDataGenerator,load_img\n",
    "import numpy as np\n",
    "from glob import glob"
   ]
  },
  {
   "cell_type": "code",
   "execution_count": 2,
   "metadata": {},
   "outputs": [],
   "source": [
    "import tensorflow as tf"
   ]
  },
  {
   "cell_type": "code",
   "execution_count": 3,
   "metadata": {},
   "outputs": [],
   "source": [
    "IMAGE_SIZE = [224, 224]\n",
    "train_path = \"F:\\Research Final\\Bank dataset\\BankNote_train(224)\"\n",
    "valid_path = \"F:\\Research Final\\Bank dataset\\BankNote_validation(224_224)\"\n",
    "test_path = \"F:\\Research Final\\Bank dataset\\BankNote_test(224_224)\"\n"
   ]
  },
  {
   "cell_type": "code",
   "execution_count": 4,
   "metadata": {},
   "outputs": [],
   "source": [
    "from glob import glob\n",
    "folders = glob('F:\\Research Final\\Bank dataset\\BankNote_train(224)/*')"
   ]
  },
  {
   "cell_type": "code",
   "execution_count": 5,
   "metadata": {},
   "outputs": [
    {
     "data": {
      "text/plain": [
       "['F:\\\\Research Final\\\\Bank dataset\\\\BankNote_train(224)\\\\1000_tk',\n",
       " 'F:\\\\Research Final\\\\Bank dataset\\\\BankNote_train(224)\\\\100_tk',\n",
       " 'F:\\\\Research Final\\\\Bank dataset\\\\BankNote_train(224)\\\\10_tk',\n",
       " 'F:\\\\Research Final\\\\Bank dataset\\\\BankNote_train(224)\\\\20_tk',\n",
       " 'F:\\\\Research Final\\\\Bank dataset\\\\BankNote_train(224)\\\\2_tk',\n",
       " 'F:\\\\Research Final\\\\Bank dataset\\\\BankNote_train(224)\\\\500_tk',\n",
       " 'F:\\\\Research Final\\\\Bank dataset\\\\BankNote_train(224)\\\\50_tk',\n",
       " 'F:\\\\Research Final\\\\Bank dataset\\\\BankNote_train(224)\\\\5_tk']"
      ]
     },
     "execution_count": 5,
     "metadata": {},
     "output_type": "execute_result"
    }
   ],
   "source": [
    "folders"
   ]
  },
  {
   "cell_type": "code",
   "execution_count": 6,
   "metadata": {},
   "outputs": [],
   "source": [
    "from tensorflow.keras.preprocessing.image import ImageDataGenerator\n",
    "\n",
    "train_datagen = ImageDataGenerator(rescale = 1./255.,rotation_range = 40, width_shift_range = 0.2, height_shift_range = 0.2, shear_range = 0.2, zoom_range = 0.2, horizontal_flip = True)\n",
    "\n",
    "valid_datagen = ImageDataGenerator(rescale = 1./255)\n",
    "\n",
    "test_datagen = ImageDataGenerator(rescale = 1./255)"
   ]
  },
  {
   "cell_type": "code",
   "execution_count": 7,
   "metadata": {},
   "outputs": [
    {
     "name": "stdout",
     "output_type": "stream",
     "text": [
      "Found 63723 images belonging to 8 classes.\n"
     ]
    }
   ],
   "source": [
    "train_set = train_datagen.flow_from_directory('F:\\Research Final\\Bank dataset\\BankNote_train(224)',\n",
    "                                            target_size = (224, 224),\n",
    "                                            batch_size = 256,\n",
    "                                            class_mode = 'categorical')"
   ]
  },
  {
   "cell_type": "code",
   "execution_count": 8,
   "metadata": {},
   "outputs": [
    {
     "name": "stdout",
     "output_type": "stream",
     "text": [
      "Found 3537 images belonging to 8 classes.\n"
     ]
    }
   ],
   "source": [
    "valid_set = valid_datagen.flow_from_directory('F:\\Research Final\\Bank dataset\\BankNote_validation(224_224)',\n",
    "                                            target_size = (224, 224),\n",
    "                                            batch_size = 256,\n",
    "                                            class_mode = 'categorical')"
   ]
  },
  {
   "cell_type": "code",
   "execution_count": 9,
   "metadata": {},
   "outputs": [
    {
     "name": "stdout",
     "output_type": "stream",
     "text": [
      "Found 3537 images belonging to 8 classes.\n"
     ]
    }
   ],
   "source": [
    "test_set = test_datagen.flow_from_directory('F:\\Research Final\\Bank dataset\\BankNote_test(224_224)',\n",
    "                                            target_size = (224, 224),\n",
    "                                            batch_size = 256,\n",
    "                                            class_mode = 'categorical')"
   ]
  },
  {
   "cell_type": "code",
   "execution_count": 10,
   "metadata": {},
   "outputs": [
    {
     "name": "stdout",
     "output_type": "stream",
     "text": [
      "Downloading data from https://storage.googleapis.com/tensorflow/keras-applications/inception_v3/inception_v3_weights_tf_dim_ordering_tf_kernels_notop.h5\n",
      "87916544/87910968 [==============================] - 42s 0us/step\n"
     ]
    }
   ],
   "source": [
    "inseption = InceptionV3(input_shape=(224,224,3), weights='imagenet', include_top=False)"
   ]
  },
  {
   "cell_type": "code",
   "execution_count": 11,
   "metadata": {},
   "outputs": [],
   "source": [
    "for layer in inseption.layers:\n",
    "    layer.trainable = False"
   ]
  },
  {
   "cell_type": "code",
   "execution_count": 12,
   "metadata": {},
   "outputs": [
    {
     "name": "stderr",
     "output_type": "stream",
     "text": [
      "C:\\Users\\USER\\anaconda3\\lib\\site-packages\\tensorflow\\python\\keras\\optimizer_v2\\optimizer_v2.py:374: UserWarning: The `lr` argument is deprecated, use `learning_rate` instead.\n",
      "  warnings.warn(\n"
     ]
    }
   ],
   "source": [
    "import tensorflow as tf\n",
    "import tensorflow.keras as keras\n",
    "from tensorflow.keras.layers import Input, Lambda, Dense, Flatten, Dropout\n",
    "# Flatten the output layer to 1 dimension\n",
    "a = Flatten(input_shape = (224,224,3))(inseption.output)\n",
    "\n",
    "# Add a fully connected layer with 512 hidden units and ReLU activation\n",
    "a = Dense(512, activation='relu', kernel_regularizer=keras.regularizers.l2(0.001))(a)\n",
    "a = Dropout(0.3)(a)\n",
    "\n",
    "a = Dense(512, activation='relu', kernel_regularizer=keras.regularizers.l2(0.001))(a)\n",
    "a = Dropout(0.3)(a)\n",
    "\n",
    "a = Dense(512, activation='relu', kernel_regularizer=keras.regularizers.l2(0.001))(a)\n",
    "# Add a dropout rate of 0.3\n",
    "a = Dropout(0.3)(a)\n",
    "\n",
    "# Add a final sigmoid layer for classification\n",
    "a = Dense(len(folders), activation='softmax')(a)\n",
    "\n",
    "model = tf.keras.models.Model(inseption.input, a)\n",
    "\n",
    "model.compile(optimizer = tf.keras.optimizers.RMSprop(lr=0.0001), loss = 'categorical_crossentropy',metrics = ['accuracy'])\n"
   ]
  },
  {
   "cell_type": "code",
   "execution_count": 14,
   "metadata": {},
   "outputs": [
    {
     "name": "stderr",
     "output_type": "stream",
     "text": [
      "C:\\Users\\USER\\anaconda3\\lib\\site-packages\\tensorflow\\python\\keras\\engine\\training.py:1940: UserWarning: `Model.fit_generator` is deprecated and will be removed in a future version. Please use `Model.fit`, which supports generators.\n",
      "  warnings.warn('`Model.fit_generator` is deprecated and '\n"
     ]
    },
    {
     "name": "stdout",
     "output_type": "stream",
     "text": [
      "Epoch 1/10\n",
      "249/249 [==============================] - 2319s 9s/step - loss: 2.2003 - accuracy: 0.7569 - val_loss: 1.7474 - val_accuracy: 0.7453\n",
      "Epoch 2/10\n",
      "249/249 [==============================] - 1266s 5s/step - loss: 1.1551 - accuracy: 0.9425 - val_loss: 1.1350 - val_accuracy: 0.9030\n",
      "Epoch 3/10\n",
      "249/249 [==============================] - 1276s 5s/step - loss: 0.9000 - accuracy: 0.9693 - val_loss: 0.9800 - val_accuracy: 0.9231\n",
      "Epoch 4/10\n",
      "249/249 [==============================] - 1291s 5s/step - loss: 0.7586 - accuracy: 0.9772 - val_loss: 0.7707 - val_accuracy: 0.9607\n",
      "Epoch 5/10\n",
      "249/249 [==============================] - 1294s 5s/step - loss: 0.6507 - accuracy: 0.9793 - val_loss: 0.7132 - val_accuracy: 0.9336\n",
      "Epoch 6/10\n",
      "249/249 [==============================] - 1246s 5s/step - loss: 0.5560 - accuracy: 0.9828 - val_loss: 0.6612 - val_accuracy: 0.9341\n",
      "Epoch 7/10\n",
      "249/249 [==============================] - 1237s 5s/step - loss: 0.4844 - accuracy: 0.9830 - val_loss: 0.4889 - val_accuracy: 0.9658\n",
      "Epoch 8/10\n",
      "249/249 [==============================] - 1239s 5s/step - loss: 0.4180 - accuracy: 0.9856 - val_loss: 0.7397 - val_accuracy: 0.8796\n",
      "Epoch 9/10\n",
      "249/249 [==============================] - 1238s 5s/step - loss: 0.3684 - accuracy: 0.9858 - val_loss: 0.5123 - val_accuracy: 0.9242\n",
      "Epoch 10/10\n",
      "249/249 [==============================] - 1247s 5s/step - loss: 0.3264 - accuracy: 0.9856 - val_loss: 0.3844 - val_accuracy: 0.9550\n"
     ]
    }
   ],
   "source": [
    "history = model.fit_generator(train_set,\n",
    "                    validation_data=valid_set,\n",
    "                    epochs= 10, \n",
    "                    steps_per_epoch=len(train_set),\n",
    "                    validation_steps=len(valid_set))"
   ]
  },
  {
   "cell_type": "code",
   "execution_count": 15,
   "metadata": {},
   "outputs": [
    {
     "name": "stdout",
     "output_type": "stream",
     "text": [
      "14/14 [==============================] - 60s 4s/step - loss: 0.3016 - accuracy: 0.9816\n"
     ]
    },
    {
     "data": {
      "text/plain": [
       "[0.3016411364078522, 0.9816228151321411]"
      ]
     },
     "execution_count": 15,
     "metadata": {},
     "output_type": "execute_result"
    }
   ],
   "source": [
    "predictions = model.evaluate(test_set,batch_size=256)\n",
    "\n",
    "predictions\n",
    "\n",
    "\n"
   ]
  },
  {
   "cell_type": "code",
   "execution_count": 16,
   "metadata": {},
   "outputs": [],
   "source": [
    "import matplotlib.pyplot as plt"
   ]
  },
  {
   "cell_type": "code",
   "execution_count": 17,
   "metadata": {},
   "outputs": [
    {
     "data": {
      "image/png": "[encoded data removed]",
      "text/plain": [
       "<Figure size 432x288 with 1 Axes>"
      ]
     },
     "metadata": {
      "needs_background": "light"
     },
     "output_type": "display_data"
    },
    {
     "data": {
      "image/png": "[encoded data removed]",
      "text/plain": [
       "<Figure size 432x288 with 1 Axes>"
      ]
     },
     "metadata": {
      "needs_background": "light"
     },
     "output_type": "display_data"
    },
    {
     "data": {
      "text/plain": [
       "<Figure size 432x288 with 0 Axes>"
      ]
     },
     "metadata": {},
     "output_type": "display_data"
    }
   ],
   "source": [
    "# plot the loss\n",
    "plt.plot(history.history['loss'], label='train loss')\n",
    "plt.plot(history.history['val_loss'], label='val loss')\n",
    "plt.legend()\n",
    "plt.show()\n",
    "plt.savefig('LossVal_loss')\n",
    "\n",
    "# plot the accuracy\n",
    "plt.plot(history.history['accuracy'], label='train acc')\n",
    "plt.plot(history.history['val_accuracy'], label='val acc')\n",
    "plt.legend()\n",
    "plt.show()\n",
    "plt.savefig('AccVal_acc')"
   ]
  },
  {
   "cell_type": "code",
   "execution_count": null,
   "metadata": {},
   "outputs": [],
   "source": []
  }
 ],
 "metadata": {
  "kernelspec": {
   "display_name": "Python 3",
   "language": "python",
   "name": "python3"
  },
  "language_info": {
   "codemirror_mode": {
    "name": "ipython",
    "version": 3
   },
   "file_extension": ".py",
   "mimetype": "text/x-python",
   "name": "python",
   "nbconvert_exporter": "python",
   "pygments_lexer": "ipython3",
   "version": "3.8.8"
  }
 },
 "nbformat": 4,
 "nbformat_minor": 4
}
