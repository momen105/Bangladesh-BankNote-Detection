{
 "cells": [
  {
   "cell_type": "code",
   "execution_count": 1,
   "id": "5e28b7f8",
   "metadata": {},
   "outputs": [],
   "source": [
    "from tensorflow.keras.models import Model\n",
    "from tensorflow.keras.applications.mobilenet import MobileNet\n",
    "from tensorflow.keras.preprocessing import image\n",
    "from tensorflow.keras.preprocessing.image import ImageDataGenerator,load_img\n",
    "import numpy as np\n",
    "from glob import glob"
   ]
  },
  {
   "cell_type": "code",
   "execution_count": 2,
   "id": "860819eb",
   "metadata": {},
   "outputs": [],
   "source": [
    "IMAGE_SIZE = [224, 224]\n",
    "train_path = \"F:\\Research Final\\Bank dataset\\BankNote_train(224)\"\n",
    "valid_path = \"F:\\Research Final\\Bank dataset\\BankNote_validation(224_224)\"\n",
    "test_path = \"F:\\Research Final\\Bank dataset\\BankNote_test(224_224)\""
   ]
  },
  {
   "cell_type": "code",
   "execution_count": 3,
   "id": "61bad3be",
   "metadata": {},
   "outputs": [],
   "source": [
    "\n",
    "from glob import glob\n",
    "folders = glob('F:\\Research Final\\Bank dataset\\BankNote_train(224)/*')"
   ]
  },
  {
   "cell_type": "code",
   "execution_count": 4,
   "id": "df1d9867",
   "metadata": {},
   "outputs": [
    {
     "data": {
      "text/plain": [
       "['F:\\\\Research Final\\\\Bank dataset\\\\BankNote_train(224)\\\\1000_tk',\n",
       " 'F:\\\\Research Final\\\\Bank dataset\\\\BankNote_train(224)\\\\100_tk',\n",
       " 'F:\\\\Research Final\\\\Bank dataset\\\\BankNote_train(224)\\\\10_tk',\n",
       " 'F:\\\\Research Final\\\\Bank dataset\\\\BankNote_train(224)\\\\20_tk',\n",
       " 'F:\\\\Research Final\\\\Bank dataset\\\\BankNote_train(224)\\\\2_tk',\n",
       " 'F:\\\\Research Final\\\\Bank dataset\\\\BankNote_train(224)\\\\500_tk',\n",
       " 'F:\\\\Research Final\\\\Bank dataset\\\\BankNote_train(224)\\\\50_tk',\n",
       " 'F:\\\\Research Final\\\\Bank dataset\\\\BankNote_train(224)\\\\5_tk']"
      ]
     },
     "execution_count": 4,
     "metadata": {},
     "output_type": "execute_result"
    }
   ],
   "source": [
    "folders"
   ]
  },
  {
   "cell_type": "code",
   "execution_count": 5,
   "id": "0a194f67",
   "metadata": {},
   "outputs": [],
   "source": [
    "from tensorflow.keras.preprocessing.image import ImageDataGenerator\n",
    "\n",
    "train_datagen = ImageDataGenerator(rescale = 1./255.,rotation_range = 40, width_shift_range = 0.2, height_shift_range = 0.2, shear_range = 0.2, zoom_range = 0.2, horizontal_flip = True)\n",
    "\n",
    "valid_datagen = ImageDataGenerator(rescale = 1./255)\n",
    "test_datagen = ImageDataGenerator(rescale = 1./255)\n"
   ]
  },
  {
   "cell_type": "code",
   "execution_count": 6,
   "id": "ac14df36",
   "metadata": {},
   "outputs": [
    {
     "name": "stdout",
     "output_type": "stream",
     "text": [
      "Found 63723 images belonging to 8 classes.\n"
     ]
    }
   ],
   "source": [
    "\n",
    "train_set = train_datagen.flow_from_directory('F:\\Research Final\\Bank dataset\\BankNote_train(224)',\n",
    "                                            target_size = (224, 224),\n",
    "                                            batch_size = 256,\n",
    "                                            class_mode = 'categorical')"
   ]
  },
  {
   "cell_type": "code",
   "execution_count": 7,
   "id": "52486e13",
   "metadata": {},
   "outputs": [
    {
     "name": "stdout",
     "output_type": "stream",
     "text": [
      "Found 3537 images belonging to 8 classes.\n"
     ]
    }
   ],
   "source": [
    "valid_set = valid_datagen.flow_from_directory('F:\\Research Final\\Bank dataset\\BankNote_validation(224_224)',\n",
    "                                            target_size = (224, 224),\n",
    "                                            batch_size = 256,\n",
    "                                            class_mode = 'categorical')\n"
   ]
  },
  {
   "cell_type": "code",
   "execution_count": 8,
   "id": "44e8242b",
   "metadata": {},
   "outputs": [
    {
     "name": "stdout",
     "output_type": "stream",
     "text": [
      "Found 3537 images belonging to 8 classes.\n"
     ]
    }
   ],
   "source": [
    "test_set = valid_datagen.flow_from_directory('F:\\Research Final\\Bank dataset\\BankNote_test(224_224)',\n",
    "                                            target_size = (224, 224),\n",
    "                                            batch_size = 256,\n",
    "                                            class_mode = 'categorical')"
   ]
  },
  {
   "cell_type": "code",
   "execution_count": 9,
   "id": "07e55e34",
   "metadata": {},
   "outputs": [],
   "source": [
    "mobile = MobileNet(input_shape=(224,224,3), weights='imagenet', include_top=False)"
   ]
  },
  {
   "cell_type": "code",
   "execution_count": 10,
   "id": "b74c822c",
   "metadata": {},
   "outputs": [],
   "source": [
    "for layer in mobile.layers:\n",
    "    layer.trainable = False"
   ]
  },
  {
   "cell_type": "code",
   "execution_count": 15,
   "id": "169975ac",
   "metadata": {},
   "outputs": [],
   "source": [
    "import tensorflow as tf\n",
    "import tensorflow.keras as keras\n",
    "from tensorflow.keras.layers import Input, Conv2D , MaxPooling2D , Dense, Flatten, Dropout\n",
    "\n",
    "a = Flatten(input_shape = (224,224,3))(mobile.output)\n",
    "\n",
    "\n",
    "\n",
    "\n",
    "# Add a fully connected layer with 512 hidden units and ReLU activation\n",
    "a = Dense(512, activation='relu', kernel_regularizer=keras.regularizers.l2(0.001))(a)\n",
    "a = Dropout(0.3)(a)\n",
    "\n",
    "a = Dense(512, activation='relu', kernel_regularizer=keras.regularizers.l2(0.001))(a)\n",
    "a = Dropout(0.3)(a)\n",
    "\n",
    "a = Dense(512, activation='relu', kernel_regularizer=keras.regularizers.l2(0.001))(a)\n",
    "# Add a dropout rate of 0.3\n",
    "a = Dropout(0.3)(a)\n",
    "\n",
    "# Add a final sigmoid layer for classification\n",
    "a = Dense(len(folders), activation='softmax')(a)\n",
    "\n",
    "model = tf.keras.models.Model(mobile.input, a)\n",
    "\n",
    "model.compile(optimizer = tf.keras.optimizers.RMSprop(lr=0.0001), loss = 'categorical_crossentropy',metrics = ['accuracy'])\n"
   ]
  },
  {
   "cell_type": "code",
   "execution_count": 16,
   "id": "f1b10ca4",
   "metadata": {},
   "outputs": [
    {
     "name": "stderr",
     "output_type": "stream",
     "text": [
      "C:\\Users\\USER\\anaconda3\\lib\\site-packages\\tensorflow\\python\\keras\\engine\\training.py:1940: UserWarning: `Model.fit_generator` is deprecated and will be removed in a future version. Please use `Model.fit`, which supports generators.\n",
      "  warnings.warn('`Model.fit_generator` is deprecated and '\n"
     ]
    },
    {
     "name": "stdout",
     "output_type": "stream",
     "text": [
      "Epoch 1/10\n",
      "249/249 [==============================] - 1658s 7s/step - loss: 1.9730 - accuracy: 0.8783 - val_loss: 1.2288 - val_accuracy: 0.9969\n",
      "Epoch 2/10\n",
      "249/249 [==============================] - 1023s 4s/step - loss: 1.0527 - accuracy: 0.9884 - val_loss: 0.8403 - val_accuracy: 0.9969\n",
      "Epoch 3/10\n",
      "249/249 [==============================] - 1002s 4s/step - loss: 0.7347 - accuracy: 0.9931 - val_loss: 0.6183 - val_accuracy: 0.9943\n",
      "Epoch 4/10\n",
      "249/249 [==============================] - 1004s 4s/step - loss: 0.5523 - accuracy: 0.9930 - val_loss: 0.4592 - val_accuracy: 0.9975\n",
      "Epoch 5/10\n",
      "249/249 [==============================] - 1001s 4s/step - loss: 0.4237 - accuracy: 0.9939 - val_loss: 0.3490 - val_accuracy: 0.9977\n",
      "Epoch 6/10\n",
      "249/249 [==============================] - 1002s 4s/step - loss: 0.3202 - accuracy: 0.9949 - val_loss: 0.2774 - val_accuracy: 0.9938\n",
      "Epoch 7/10\n",
      "249/249 [==============================] - 1005s 4s/step - loss: 0.2466 - accuracy: 0.9954 - val_loss: 0.2226 - val_accuracy: 0.9943\n",
      "Epoch 8/10\n",
      "249/249 [==============================] - 1001s 4s/step - loss: 0.2075 - accuracy: 0.9940 - val_loss: 0.1701 - val_accuracy: 0.9986\n",
      "Epoch 9/10\n",
      "249/249 [==============================] - 1002s 4s/step - loss: 0.1619 - accuracy: 0.9953 - val_loss: 0.1341 - val_accuracy: 0.9994\n",
      "Epoch 10/10\n",
      "249/249 [==============================] - 1017s 4s/step - loss: 0.1396 - accuracy: 0.9945 - val_loss: 0.1087 - val_accuracy: 0.9997\n"
     ]
    }
   ],
   "source": [
    "history = model.fit_generator(train_set,\n",
    "                    validation_data=valid_set,\n",
    "                    epochs= 10, \n",
    "                    steps_per_epoch=len(train_set),\n",
    "                    validation_steps=len(valid_set))"
   ]
  },
  {
   "cell_type": "code",
   "execution_count": 17,
   "id": "25792f4e",
   "metadata": {},
   "outputs": [
    {
     "name": "stdout",
     "output_type": "stream",
     "text": [
      "14/14 [==============================] - 46s 3s/step - loss: 0.1076 - accuracy: 1.0000\n"
     ]
    },
    {
     "data": {
      "text/plain": [
       "[0.10764965415000916, 1.0]"
      ]
     },
     "execution_count": 17,
     "metadata": {},
     "output_type": "execute_result"
    }
   ],
   "source": [
    "predictions = model.evaluate(test_set,batch_size=256)\n",
    "\n",
    "predictions\n",
    "\n",
    "\n"
   ]
  },
  {
   "cell_type": "code",
   "execution_count": 18,
   "id": "82b6c43e",
   "metadata": {},
   "outputs": [],
   "source": [
    "import matplotlib.pyplot as plt"
   ]
  },
  {
   "cell_type": "code",
   "execution_count": 19,
   "id": "7378f919",
   "metadata": {},
   "outputs": [
    {
     "data": {
      "image/png": "[encoded data removed]",
      "text/plain": [
       "<Figure size 432x288 with 1 Axes>"
      ]
     },
     "metadata": {
      "needs_background": "light"
     },
     "output_type": "display_data"
    },
    {
     "data": {
      "image/png": "[encoded data removed]",
      "text/plain": [
       "<Figure size 432x288 with 1 Axes>"
      ]
     },
     "metadata": {
      "needs_background": "light"
     },
     "output_type": "display_data"
    },
    {
     "data": {
      "text/plain": [
       "<Figure size 432x288 with 0 Axes>"
      ]
     },
     "metadata": {},
     "output_type": "display_data"
    }
   ],
   "source": [
    "# plot the loss\n",
    "plt.plot(history.history['loss'], label='train loss')\n",
    "plt.plot(history.history['val_loss'], label='val loss')\n",
    "plt.legend()\n",
    "plt.show()\n",
    "plt.savefig('LossVal_loss')\n",
    "\n",
    "# plot the accuracy\n",
    "plt.plot(history.history['accuracy'], label='train acc')\n",
    "plt.plot(history.history['val_accuracy'], label='val acc')\n",
    "plt.legend()\n",
    "plt.show()\n",
    "plt.savefig('AccVal_acc')"
   ]
  },
  {
   "cell_type": "code",
   "execution_count": null,
   "id": "428fc35b",
   "metadata": {},
   "outputs": [],
   "source": []
  }
 ],
 "metadata": {
  "kernelspec": {
   "display_name": "Python 3",
   "language": "python",
   "name": "python3"
  },
  "language_info": {
   "codemirror_mode": {
    "name": "ipython",
    "version": 3
   },
   "file_extension": ".py",
   "mimetype": "text/x-python",
   "name": "python",
   "nbconvert_exporter": "python",
   "pygments_lexer": "ipython3",
   "version": "3.8.8"
  }
 },
 "nbformat": 4,
 "nbformat_minor": 5
}
